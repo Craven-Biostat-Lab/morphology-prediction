{
 "cells": [
  {
   "cell_type": "code",
   "execution_count": null,
   "metadata": {},
   "outputs": [],
   "source": [
    "import seaborn as sns\n",
    "import pandas as pd"
   ]
  },
  {
   "cell_type": "code",
   "execution_count": null,
   "metadata": {},
   "outputs": [],
   "source": [
    "# AUCs from summer program poster:\n",
    "auc_df = pd.DataFrame.from_records(\n",
    "    [\n",
    "        ('Random Forest', 'All', 0.868),\n",
    "        ('Random Forest', 'AGP', 0.801),\n",
    "        ('Random Forest', 'RNA', 0.885),\n",
    "        ('Random Forest', 'DNA', 0.854),\n",
    "        ('Logistic Regression', 'All', 0.899),\n",
    "        ('Logistic Regression', 'AGP', 0.976),\n",
    "        ('Logistic Regression', 'RNA', 0.901),\n",
    "        ('Logistic Regression', 'DNA', 0.813)\n",
    "    ],\n",
    "    #index=['Model', 'Channel'],\n",
    "    columns=['Model', 'Channel', 'ROC AUC']\n",
    ")"
   ]
  },
  {
   "cell_type": "code",
   "execution_count": null,
   "metadata": {},
   "outputs": [],
   "source": [
    "sns.barplot(\n",
    "    auc_df,\n",
    "    x='Channel',\n",
    "    y='AUC ROC',\n",
    "    hue='Model'\n",
    ")"
   ]
  }
 ],
 "metadata": {
  "language_info": {
   "name": "python"
  },
  "orig_nbformat": 4
 },
 "nbformat": 4,
 "nbformat_minor": 2
}
